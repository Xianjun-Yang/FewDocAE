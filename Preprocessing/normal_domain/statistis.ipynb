{
 "cells": [
  {
   "cell_type": "code",
   "execution_count": 1,
   "metadata": {},
   "outputs": [],
   "source": [
    "import json\n",
    "from tqdm import tqdm"
   ]
  },
  {
   "cell_type": "code",
   "execution_count": 58,
   "metadata": {},
   "outputs": [
    {
     "data": {
      "text/plain": [
       "18935"
      ]
     },
     "execution_count": 58,
     "metadata": {},
     "output_type": "execute_result"
    }
   ],
   "source": [
    "prepath = '/../../project_data/DocEE/cross_setting/6w2d/'\n",
    "split = 'train'\n",
    "path = prepath + split + '_6w2d.jsonl'\n",
    "with open( path, 'r') as f:\n",
    "    data = f.readlines()\n",
    "len(data)"
   ]
  },
  {
   "cell_type": "code",
   "execution_count": 18,
   "metadata": {},
   "outputs": [
    {
     "data": {
      "text/plain": [
       "dict_keys(['support', 'query', 'types'])"
      ]
     },
     "execution_count": 18,
     "metadata": {},
     "output_type": "execute_result"
    }
   ],
   "source": [
    "sample = json.loads( data[32] )\n",
    "sample.keys()"
   ]
  },
  {
   "cell_type": "code",
   "execution_count": 29,
   "metadata": {},
   "outputs": [
    {
     "name": "stderr",
     "output_type": "stream",
     "text": [
      "100%|██████████| 43741/43741 [00:12<00:00, 3466.82it/s]\n"
     ]
    }
   ],
   "source": [
    "args = []\n",
    "for x in tqdm( data ):\n",
    "    sample = json.loads( x )\n",
    "    for label in sample['support']['label']:\n",
    "        all_label = \"*\".join(x for x in label)\n",
    "        types = [x for x in all_label.split('O') if x != '*' and x != '']\n",
    "\n",
    "        co = 0\n",
    "        for y in types:\n",
    "            y1 = set( y.split('*') )\n",
    "            for y2 in y1:\n",
    "                if y2 != '':\n",
    "                    co += 1\n",
    "\n",
    "\n",
    "        args.append( co)\n",
    "\n",
    "    for label in sample['query']['label']:\n",
    "        all_label = \"*\".join(x for x in label)\n",
    "        types = [x for x in all_label.split('O') if x != '*' and x != '']\n",
    "\n",
    "        co = 0\n",
    "        for y in types:\n",
    "            y1 = set( y.split('*') )\n",
    "            for y2 in y1:\n",
    "                if y2 != '':\n",
    "                    co += 1\n",
    "        args.append( co)"
   ]
  },
  {
   "cell_type": "code",
   "execution_count": 30,
   "metadata": {},
   "outputs": [
    {
     "data": {
      "text/plain": [
       "4.473731739100615"
      ]
     },
     "execution_count": 30,
     "metadata": {},
     "output_type": "execute_result"
    }
   ],
   "source": [
    "sum(args)/len(args)"
   ]
  },
  {
   "cell_type": "code",
   "execution_count": 59,
   "metadata": {},
   "outputs": [
    {
     "name": "stderr",
     "output_type": "stream",
     "text": [
      "100%|██████████| 18935/18935 [00:10<00:00, 1781.90it/s]\n"
     ]
    }
   ],
   "source": [
    "args = []\n",
    "for x in tqdm( data ):\n",
    "    sample = json.loads( x )\n",
    "    temp = set()\n",
    "\n",
    "    for label in sample['support']['label']:\n",
    "        index1=False\n",
    "        all_label = \"*\".join(x for x in label)\n",
    "        types = [x for x in all_label.split('O') if x != '*' and x != '']\n",
    "        for types1 in types:\n",
    "            arg = list( set( types1.split('*') ) )\n",
    "            for x in arg:\n",
    "                if len(x) > 0:\n",
    "                    args.append( x )\n",
    "                    \n",
    "    for label in sample['query']['label']:\n",
    "        all_label = \"*\".join(x for x in label)\n",
    "        types = [x for x in all_label.split('O') if x != '*' and x != '']\n",
    "        for types1 in types:\n",
    "            arg = list( set( types1.split('*') ) )\n",
    "            for x in arg:\n",
    "                if len(x) > 0:\n",
    "                    args.append( x )"
   ]
  },
  {
   "cell_type": "code",
   "execution_count": 60,
   "metadata": {},
   "outputs": [],
   "source": [
    "from collections import Counter\n",
    "ds = Counter( args )\n",
    "perdoc = dict( zip( list(ds.keys()), [0]*len(list(ds.keys())) ))"
   ]
  },
  {
   "cell_type": "code",
   "execution_count": 61,
   "metadata": {},
   "outputs": [
    {
     "name": "stderr",
     "output_type": "stream",
     "text": [
      "100%|██████████| 18935/18935 [00:10<00:00, 1754.58it/s]\n"
     ]
    }
   ],
   "source": [
    "# MACRO\n",
    "args = []\n",
    "for x in tqdm( data ):\n",
    "    sample = json.loads( x )\n",
    "    temp = set()\n",
    "\n",
    "    for label in sample['support']['label']:\n",
    "        index1=False\n",
    "        all_label = \"*\".join(x for x in label)\n",
    "        types = [x for x in all_label.split('O') if x != '*' and x != '']\n",
    "        for types1 in types:\n",
    "            arg = list( set( types1.split('*') ) )\n",
    "            for x in arg:\n",
    "                if len(x) > 0:\n",
    "                    args.append( x )\n",
    "                    temp.add(x)\n",
    "\n",
    "    for x in temp:\n",
    "        perdoc[x] += 1\n",
    "\n",
    "    temp = set()\n",
    "    for label in sample['query']['label']:\n",
    "        all_label = \"*\".join(x for x in label)\n",
    "        types = [x for x in all_label.split('O') if x != '*' and x != '']\n",
    "        for types1 in types:\n",
    "            arg = list( set( types1.split('*') ) )\n",
    "            for x in arg:\n",
    "                if len(x) > 0:\n",
    "                    args.append( x )\n",
    "                    temp.add(x)\n",
    "    \n",
    "    for x in temp:\n",
    "        perdoc[x] += 1"
   ]
  },
  {
   "cell_type": "code",
   "execution_count": 62,
   "metadata": {},
   "outputs": [],
   "source": [
    "micro = []\n",
    "for x in ds:\n",
    "    micro.append( ds[x]/perdoc[x] )"
   ]
  },
  {
   "cell_type": "code",
   "execution_count": 63,
   "metadata": {},
   "outputs": [
    {
     "data": {
      "text/plain": [
       "6.3472634531292655"
      ]
     },
     "execution_count": 63,
     "metadata": {},
     "output_type": "execute_result"
    }
   ],
   "source": [
    "sum(micro)/len(micro)*6/2"
   ]
  },
  {
   "cell_type": "code",
   "execution_count": null,
   "metadata": {},
   "outputs": [],
   "source": []
  }
 ],
 "metadata": {
  "kernelspec": {
   "display_name": "Python 3.7.13 ('fewner': conda)",
   "language": "python",
   "name": "python3"
  },
  "language_info": {
   "codemirror_mode": {
    "name": "ipython",
    "version": 3
   },
   "file_extension": ".py",
   "mimetype": "text/x-python",
   "name": "python",
   "nbconvert_exporter": "python",
   "pygments_lexer": "ipython3",
   "version": "3.8.13"
  },
  "orig_nbformat": 4,
  "vscode": {
   "interpreter": {
    "hash": "0e08de1a2359b1047467757cdbe41e80d6fd419278f4d2adc62791f50ccaa366"
   }
  }
 },
 "nbformat": 4,
 "nbformat_minor": 2
}
