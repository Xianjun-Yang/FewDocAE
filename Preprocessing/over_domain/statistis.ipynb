{
 "cells": [
  {
   "cell_type": "code",
   "execution_count": 4,
   "metadata": {},
   "outputs": [],
   "source": [
    "import json, pickle\n",
    "from tqdm import tqdm"
   ]
  },
  {
   "cell_type": "code",
   "execution_count": 6,
   "metadata": {},
   "outputs": [
    {
     "data": {
      "text/plain": [
       "1"
      ]
     },
     "execution_count": 6,
     "metadata": {},
     "output_type": "execute_result"
    }
   ],
   "source": [
    "prepath = '../../../project_data/DocEE/cross_setting/'\n",
    "split = 'train'\n",
    "path = prepath + split + '_new.pkl'\n",
    "with open( path, 'r') as f:\n",
    "    data = json.load(f)\n",
    "len(data)"
   ]
  },
  {
   "cell_type": "code",
   "execution_count": 7,
   "metadata": {},
   "outputs": [],
   "source": [
    "data[0]"
   ]
  },
  {
   "cell_type": "code",
   "execution_count": 18,
   "metadata": {},
   "outputs": [
    {
     "data": {
      "text/plain": [
       "dict_keys(['support', 'query', 'types'])"
      ]
     },
     "execution_count": 18,
     "metadata": {},
     "output_type": "execute_result"
    }
   ],
   "source": [
    "sample = json.loads( data[32] )\n",
    "sample.keys()"
   ]
  },
  {
   "cell_type": "code",
   "execution_count": 29,
   "metadata": {},
   "outputs": [
    {
     "name": "stderr",
     "output_type": "stream",
     "text": [
      "100%|██████████| 43741/43741 [00:12<00:00, 3466.82it/s]\n"
     ]
    }
   ],
   "source": [
    "args = []\n",
    "for x in tqdm( data ):\n",
    "    sample = json.loads( x )\n",
    "    for label in sample['support']['label']:\n",
    "        all_label = \"*\".join(x for x in label)\n",
    "        types = [x for x in all_label.split('O') if x != '*' and x != '']\n",
    "\n",
    "        co = 0\n",
    "        for y in types:\n",
    "            y1 = set( y.split('*') )\n",
    "            for y2 in y1:\n",
    "                if y2 != '':\n",
    "                    co += 1\n",
    "\n",
    "\n",
    "        args.append( co)\n",
    "\n",
    "    for label in sample['query']['label']:\n",
    "        all_label = \"*\".join(x for x in label)\n",
    "        types = [x for x in all_label.split('O') if x != '*' and x != '']\n",
    "\n",
    "        co = 0\n",
    "        for y in types:\n",
    "            y1 = set( y.split('*') )\n",
    "            for y2 in y1:\n",
    "                if y2 != '':\n",
    "                    co += 1\n",
    "        args.append( co)"
   ]
  },
  {
   "cell_type": "code",
   "execution_count": 30,
   "metadata": {},
   "outputs": [
    {
     "data": {
      "text/plain": [
       "4.473731739100615"
      ]
     },
     "execution_count": 30,
     "metadata": {},
     "output_type": "execute_result"
    }
   ],
   "source": [
    "sum(args)/len(args)"
   ]
  },
  {
   "cell_type": "code",
   "execution_count": null,
   "metadata": {},
   "outputs": [],
   "source": []
  }
 ],
 "metadata": {
  "kernelspec": {
   "display_name": "Python 3.7.13 ('fewner': conda)",
   "language": "python",
   "name": "python3"
  },
  "language_info": {
   "codemirror_mode": {
    "name": "ipython",
    "version": 3
   },
   "file_extension": ".py",
   "mimetype": "text/x-python",
   "name": "python",
   "nbconvert_exporter": "python",
   "pygments_lexer": "ipython3",
   "version": "3.7.13"
  },
  "orig_nbformat": 4,
  "vscode": {
   "interpreter": {
    "hash": "0e08de1a2359b1047467757cdbe41e80d6fd419278f4d2adc62791f50ccaa366"
   }
  }
 },
 "nbformat": 4,
 "nbformat_minor": 2
}
